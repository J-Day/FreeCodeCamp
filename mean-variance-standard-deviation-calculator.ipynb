{
 "cells": [
  {
   "cell_type": "markdown",
   "metadata": {},
   "source": [
    "### Assignment\n",
    "\n",
    "Create a function named `calculate()` in `mean_var_std.py` that uses Numpy to output the mean, variance, standard deviation, max, min, and sum of the rows, columns, and elements in a 3 x 3 matrix. \n",
    "\n",
    "The input of the function should be a list containing 9 digits. The function should convert the list into a 3 x 3 Numpy array, and then return a dictionary containing the mean, variance, standard deviation, max, min, and sum along both axes and for the flattened matrix. \n",
    "\n",
    "The returned dictionary should follow this format:\n",
    "```py\n",
    "{\n",
    "  'mean': [axis1, axis2, flattened],\n",
    "  'variance': [axis1, axis2, flattened],\n",
    "  'standard deviation': [axis1, axis2, flattened],\n",
    "  'max': [axis1, axis2, flattened],\n",
    "  'min': [axis1, axis2, flattened],\n",
    "  'sum': [axis1, axis2, flattened]\n",
    "}\n",
    "```\n",
    "\n",
    "If a list containing less than 9 elements is passed into the function, it should raise a `ValueError` exception with the message: \"List must contain nine numbers.\" The values in the returned dictionary should be lists and not Numpy arrays.\n",
    "\n",
    "For example, `calculate([0,1,2,3,4,5,6,7,8])` should return:\n",
    "```py\n",
    "{\n",
    "  'mean': [[3.0, 4.0, 5.0], [1.0, 4.0, 7.0], 4.0], \n",
    "  'variance': [[6.0, 6.0, 6.0], [0.6666666666666666, 0.6666666666666666, 0.6666666666666666], 6.666666666666667], \n",
    "  'standard deviation': [[2.449489742783178, 2.449489742783178, 2.449489742783178], [0.816496580927726, 0.816496580927726, 0.816496580927726], 2.581988897471611],\n",
    "  'max': [[6, 7, 8], [2, 5, 8], 8],\n",
    "  'min': [[0, 1, 2], [0, 3, 6], 0],\n",
    "  'sum': [[9, 12, 15], [3, 12, 21], 36]\n",
    "}\n",
    "```\n",
    "\n",
    "Click [here](https://replit.com/join/ovokafyz-jackday0 'Replit page') to go to the Replit page for this project\n"
   ]
  },
  {
   "cell_type": "code",
   "execution_count": 15,
   "metadata": {},
   "outputs": [],
   "source": [
    "import numpy as np\n",
    "\n",
    "input = [0,1,2,3,4,5,6,7,8]"
   ]
  },
  {
   "cell_type": "code",
   "execution_count": 29,
   "metadata": {},
   "outputs": [
    {
     "data": {
      "text/plain": [
       "array([0., 1., 2., 3., 4., 5., 6., 7., 8.], dtype=float32)"
      ]
     },
     "execution_count": 29,
     "metadata": {},
     "output_type": "execute_result"
    }
   ],
   "source": [
    "array = np.array(input, np.float32)\n",
    "array"
   ]
  },
  {
   "cell_type": "code",
   "execution_count": 30,
   "metadata": {},
   "outputs": [
    {
     "data": {
      "text/plain": [
       "array([[0., 1., 2.],\n",
       "       [3., 4., 5.],\n",
       "       [6., 7., 8.]], dtype=float32)"
      ]
     },
     "execution_count": 30,
     "metadata": {},
     "output_type": "execute_result"
    }
   ],
   "source": [
    "matrix = array.reshape(3,3)\n",
    "matrix"
   ]
  },
  {
   "cell_type": "code",
   "execution_count": 67,
   "metadata": {},
   "outputs": [],
   "source": [
    "def calculate(num_list):\n",
    "    if len(num_list != 9):\n",
    "        raise ValueError('List must contain nine numbers')\n",
    "    else:\n",
    "        pass\n",
    "        calulations = {}\n",
    "\n",
    "        array = np.asarray(num_list)\n",
    "        matrix = array.reshape(3,3)\n",
    "\n",
    "        #mean\n",
    "        mean_axis0 = list(matrix.mean(axis=0))\n",
    "        mean_axis1 = list(matrix.mean(axis=1))\n",
    "        mean_flat = matrix.mean()\n",
    "        calulations['mean'] = [mean_axis0, mean_axis1, mean_flat]\n",
    "\n",
    "        #variance\n",
    "        var_axis0 = list(matrix.var(axis=0))\n",
    "        var_axis1 = list(matrix.var(axis=1))\n",
    "        var_flat = matrix.var()\n",
    "        calulations['variance'] = [var_axis0, var_axis1, var_flat]\n",
    "\n",
    "        #standard deviation\n",
    "        std_axis0 = list(matrix.std(axis=0))\n",
    "        std_axis1 = list(matrix.std(axis=1))\n",
    "        std_flat = matrix.std()\n",
    "        calulations['standard deviation'] = [std_axis0, std_axis1, std_flat]\n",
    "\n",
    "        #max\n",
    "        max_axis0 = list(matrix.max(axis=0))\n",
    "        max_axis1 = list(matrix.max(axis=1))\n",
    "        max_flat = matrix.max()\n",
    "        calulations['max'] = [max_axis0, max_axis1, max_flat]\n",
    "\n",
    "        #min\n",
    "        min_axis0 = list(matrix.min(axis=0))\n",
    "        min_axis1 = list(matrix.min(axis=1))\n",
    "        min_flat = matrix.min()\n",
    "        calulations['min'] = [min_axis0, min_axis1, min_flat]\n",
    "\n",
    "        #sum\n",
    "        sum_axis0 = list(matrix.sum(axis=0))\n",
    "        sum_axis1 = list(matrix.sum(axis=1))\n",
    "        sum_flat = matrix.sum()\n",
    "        calulations['sum'] = [sum_axis0, sum_axis1, sum_flat]\n",
    "\n",
    "        return calulations"
   ]
  },
  {
   "cell_type": "code",
   "execution_count": 48,
   "metadata": {},
   "outputs": [
    {
     "data": {
      "text/plain": [
       "{'mean': [[3.0, 4.0, 5.0], [1.0, 4.0, 7.0], 4.0],\n",
       " 'variance': [[6.0, 6.0, 6.0],\n",
       "  [0.6666666666666666, 0.6666666666666666, 0.6666666666666666],\n",
       "  6.666666666666667],\n",
       " 'standard deviation': [[2.449489742783178,\n",
       "   2.449489742783178,\n",
       "   2.449489742783178],\n",
       "  [0.816496580927726, 0.816496580927726, 0.816496580927726],\n",
       "  2.581988897471611],\n",
       " 'max': [[6, 7, 8], [2, 5, 8], 8],\n",
       " 'min': [[0, 1, 2], [0, 3, 6], 0],\n",
       " 'sum': [[9, 12, 15], [3, 12, 21], 36]}"
      ]
     },
     "execution_count": 48,
     "metadata": {},
     "output_type": "execute_result"
    }
   ],
   "source": [
    "calculate(input)"
   ]
  },
  {
   "cell_type": "code",
   "execution_count": null,
   "metadata": {},
   "outputs": [],
   "source": []
  }
 ],
 "metadata": {
  "kernelspec": {
   "display_name": "Python 3",
   "language": "python",
   "name": "python3"
  },
  "language_info": {
   "codemirror_mode": {
    "name": "ipython",
    "version": 3
   },
   "file_extension": ".py",
   "mimetype": "text/x-python",
   "name": "python",
   "nbconvert_exporter": "python",
   "pygments_lexer": "ipython3",
   "version": "3.7.6"
  }
 },
 "nbformat": 4,
 "nbformat_minor": 4
}
